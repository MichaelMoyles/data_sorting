{
 "cells": [
  {
   "attachments": {},
   "cell_type": "markdown",
   "metadata": {},
   "source": [
    "# Part 2 - Shortest Path Algorithms"
   ]
  },
  {
   "attachments": {},
   "cell_type": "markdown",
   "metadata": {},
   "source": [
    "## Introduction - \n",
    "Djikstra's Shortest Path Algorithm and A* Algorithm"
   ]
  },
  {
   "attachments": {},
   "cell_type": "markdown",
   "metadata": {},
   "source": [
    "### Pseudocode"
   ]
  },
  {
   "cell_type": "code",
   "execution_count": 1,
   "metadata": {},
   "outputs": [],
   "source": [
    "from Part2_Graph import Graph"
   ]
  },
  {
   "cell_type": "code",
   "execution_count": 21,
   "metadata": {},
   "outputs": [
    {
     "name": "stdout",
     "output_type": "stream",
     "text": [
      "False\n",
      "5\n",
      "5\n",
      "['A', 'B', 'C', 'D', 'E']\n",
      "[A - B: 1, A - C: 1, A - E: 1, B - C: 1, B - E: 1]\n",
      "['B', 'C', 'E']\n",
      "[]\n",
      "True\n",
      "False\n"
     ]
    }
   ],
   "source": [
    "graph = Graph()\n",
    "graph.add_node('A')\n",
    "graph.add_node('B')\n",
    "graph.add_node('C')\n",
    "graph.add_node('D')\n",
    "graph.add_node('E')\n",
    "\n",
    "graph.add_edge('A','B', 1)\n",
    "graph.add_edge('A','C', 1)\n",
    "graph.add_edge('A','E', 1)\n",
    "graph.add_edge('B','C', 1)\n",
    "graph.add_edge('B','E', 1)\n",
    "\n",
    "graph.is_empty\n",
    "graph.num_nodes\n",
    "graph.num_edges\n",
    "graph.nodes\n",
    "graph.edges\n",
    "graph.neighbors('A')\n",
    "graph.neighbors('D')\n",
    "graph.adjacent('A','B')\n",
    "graph.adjacent('A','D')"
   ]
  },
  {
   "cell_type": "code",
   "execution_count": 23,
   "metadata": {},
   "outputs": [
    {
     "name": "stdout",
     "output_type": "stream",
     "text": [
      "True\n",
      "0\n",
      "0\n",
      "[]\n",
      "[]\n"
     ]
    }
   ],
   "source": [
    "e_graph = Graph()\n",
    "\n",
    "print(e_graph.is_empty)\n",
    "print(e_graph.num_nodes)\n",
    "print(e_graph.num_edges)\n",
    "print(e_graph.nodes)\n",
    "print(e_graph.edges)\n",
    "# print(e_graph.neighbors('A'))\n",
    "# print(e_graph.neighbors('D'))\n",
    "# print(e_graph.adjacent('A','B'))\n",
    "# print(e_graph.adjacent('A','D'))"
   ]
  }
 ],
 "metadata": {
  "kernelspec": {
   "display_name": "Python 3",
   "language": "python",
   "name": "python3"
  },
  "language_info": {
   "codemirror_mode": {
    "name": "ipython",
    "version": 3
   },
   "file_extension": ".py",
   "mimetype": "text/x-python",
   "name": "python",
   "nbconvert_exporter": "python",
   "pygments_lexer": "ipython3",
   "version": "3.11.1"
  },
  "orig_nbformat": 4,
  "vscode": {
   "interpreter": {
    "hash": "b95e376dfcc9ece31c09ae299a4551e71c90b0f5b011c4b055231a80fe5642b4"
   }
  }
 },
 "nbformat": 4,
 "nbformat_minor": 2
}
